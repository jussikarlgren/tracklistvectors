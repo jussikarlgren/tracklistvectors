{
 "cells": [
  {
   "cell_type": "markdown",
   "metadata": {
    "toc": true
   },
   "source": [
    "<h1>Table of Contents<span class=\"tocSkip\"></span></h1>\n",
    "<div class=\"toc\"><ul class=\"toc-item\"><li><span><a href=\"#Logger-(replace-with-better)\" data-toc-modified-id=\"Logger-(replace-with-better)-1\"><span class=\"toc-item-num\">1&nbsp;&nbsp;</span>Logger (replace with better)</a></span></li><li><span><a href=\"#Imports\" data-toc-modified-id=\"Imports-2\"><span class=\"toc-item-num\">2&nbsp;&nbsp;</span>Imports</a></span></li><li><span><a href=\"#Experiment-setup\" data-toc-modified-id=\"Experiment-setup-3\"><span class=\"toc-item-num\">3&nbsp;&nbsp;</span>Experiment setup</a></span></li><li><span><a href=\"#Run-experiment\" data-toc-modified-id=\"Run-experiment-4\"><span class=\"toc-item-num\">4&nbsp;&nbsp;</span>Run experiment</a></span></li></ul></div>"
   ]
  },
  {
   "cell_type": "markdown",
   "metadata": {
    "ExecuteTime": {
     "end_time": "2020-01-09T13:34:07.458108Z",
     "start_time": "2020-01-09T13:34:06.854887Z"
    }
   },
   "source": [
    "# Logger (replace with better)"
   ]
  },
  {
   "cell_type": "code",
   "execution_count": 1,
   "metadata": {
    "ExecuteTime": {
     "end_time": "2020-01-08T11:49:42.336702Z",
     "start_time": "2020-01-08T11:49:42.085590Z"
    }
   },
   "outputs": [],
   "source": [
    "import inspect\n",
    "import time\n",
    "\n",
    "def logger(msg, level=False, endspace=\"\\n\"):\n",
    "    if level:\n",
    "        print(time.ctime(), \" \", inspect.stack()[1][3], \"(): \", msg, sep=\"\", end=endspace, flush=True)"
   ]
  },
  {
   "cell_type": "markdown",
   "metadata": {},
   "source": [
    "# Imports"
   ]
  },
  {
   "cell_type": "code",
   "execution_count": 3,
   "metadata": {
    "ExecuteTime": {
     "end_time": "2020-01-08T11:49:55.741520Z",
     "start_time": "2020-01-08T11:49:54.742243Z"
    }
   },
   "outputs": [],
   "source": [
    "from random import random, sample\n",
    "import copy\n",
    "import math\n",
    "import numpy\n",
    "from sklearn.metrics.pairwise import cosine_distances as cosine"
   ]
  },
  {
   "cell_type": "code",
   "execution_count": 4,
   "metadata": {
    "ExecuteTime": {
     "end_time": "2020-01-08T15:31:59.953566Z",
     "start_time": "2020-01-08T15:31:59.795272Z"
    }
   },
   "outputs": [],
   "source": [
    "#  Very simple implementation of index vectors\n",
    "#  Some standard libraries for sparse vectors are available\n",
    "#  in Python but appear to have prohibitive overhead of implementation.\n",
    "def newrandomvector(dimensionality, denseness):\n",
    "    \"\"\"\n",
    "    Generates a sparse vector in the form of a dict with denseness entries composed of\n",
    "    integer keys and 1 or -1 values, equal number of each.\n",
    "    :param dimensionality: int\n",
    "    :param denseness: int\n",
    "    :return: dict int->int\n",
    "    \"\"\"\n",
    "    vec = {}\n",
    "    if denseness % 2 != 0:\n",
    "        denseness += 1\n",
    "    if denseness > 0:  # no need to be careful about this, right? and k % 2 == 0):\n",
    "        nonzeros = sample(range(dimensionality), denseness)\n",
    "        negatives = denseness // 2\n",
    "        for ix in nonzeros[:negatives]:\n",
    "            vec[ix] = 1\n",
    "        for ix in nonzeros[negatives:]:\n",
    "            vec[ix] = -1\n",
    "    return vec"
   ]
  },
  {
   "cell_type": "code",
   "execution_count": 5,
   "metadata": {
    "ExecuteTime": {
     "end_time": "2020-01-08T15:32:35.857132Z",
     "start_time": "2020-01-08T15:32:35.751203Z"
    }
   },
   "outputs": [],
   "source": [
    "def sparseadd(onevec, othervec, weight=1.0):\n",
    "    \"\"\"\n",
    "    Adds two sparse vectors represented as dicts with numerical values, optionally weighting othervec with the\n",
    "    weight parameter which defaults to 1.0 (equal weighting).\n",
    "    :param onevec: dict with numerical values\n",
    "    :param othervec: dict with numerical values\n",
    "    :param weight: float\n",
    "    :return: dict with float values\n",
    "    \"\"\"\n",
    "    result = copy.copy(onevec)\n",
    "    for ll in onevec:\n",
    "        result[ll] = onevec[ll]\n",
    "    for kk in othervec:\n",
    "        if kk in result:\n",
    "            result[kk] = result[kk] + othervec[kk] * float(weight)\n",
    "        else:\n",
    "            result[kk] = othervec[kk] * float(weight)\n",
    "    return result"
   ]
  },
  {
   "cell_type": "code",
   "execution_count": 6,
   "metadata": {
    "ExecuteTime": {
     "end_time": "2020-01-08T15:32:54.720961Z",
     "start_time": "2020-01-08T15:32:54.618942Z"
    }
   },
   "outputs": [],
   "source": [
    "def sparsecosine(xvec, yvec):\n",
    "    \"\"\"\n",
    "    Calculates cosine between two sparse vectors. (Can be replaced with sklearn.dist.cosine,\n",
    "    but that seems to be more costly in processing time.)\n",
    "    :param xvec: dict with numerical values\n",
    "    :param yvec: dict with numerical values\n",
    "    :return: float\n",
    "    \"\"\"\n",
    "    x2 = 0\n",
    "    y2 = 0\n",
    "    xy = 0\n",
    "    for ix in xvec:\n",
    "        x2 += xvec[ix] * xvec[ix]\n",
    "    for jx in yvec:\n",
    "        y2 += yvec[jx] * yvec[jx]\n",
    "        if jx in xvec:\n",
    "            xy += xvec[jx] * yvec[jx]\n",
    "    if x2 * y2 == 0:\n",
    "        cos = 0\n",
    "    else:\n",
    "        cos = xy / (math.sqrt(x2) * math.sqrt(y2))\n",
    "    return cos"
   ]
  },
  {
   "cell_type": "markdown",
   "metadata": {},
   "source": [
    "# Experiment setup"
   ]
  },
  {
   "cell_type": "code",
   "execution_count": 9,
   "metadata": {
    "ExecuteTime": {
     "end_time": "2020-01-09T13:38:19.127547Z",
     "start_time": "2020-01-09T13:38:18.527272Z"
    }
   },
   "outputs": [],
   "source": [
    "# vector space setup\n",
    "dimensionality = 1000\n",
    "denseness = 10\n",
    "testsampleproportion = 500\n",
    "\n",
    "# loglevels for logger\n",
    "debug   = True    \n",
    "monitor = True\n",
    "error   = True\n",
    "\n",
    "# simulated data\n",
    "numberofplaylists = 1000\n",
    "numberoftracks = 10000\n",
    "minimumnumberoftracksperplaylist = 50\n",
    "maximumnumberoftracksperplaylist = 200\n",
    "\n",
    "playlists = []\n",
    "for i in range(numberofplaylists):\n",
    "    playlistlength = minimumnumberoftracksperplaylist + \\\n",
    "                 int(random() * (maximumnumberoftracksperplaylist - minimumnumberoftracksperplaylist))\n",
    "    oneplaylist = sample(range(numberoftracks), playlistlength)\n",
    "    playlists.append(oneplaylist)"
   ]
  },
  {
   "cell_type": "markdown",
   "metadata": {},
   "source": [
    "# Run experiment"
   ]
  },
  {
   "cell_type": "code",
   "execution_count": 10,
   "metadata": {
    "ExecuteTime": {
     "end_time": "2020-01-09T13:38:24.927039Z",
     "start_time": "2020-01-09T13:38:21.920070Z"
    }
   },
   "outputs": [
    {
     "name": "stdout",
     "output_type": "stream",
     "text": [
      "Thu Jan  9 13:38:22 2020 <module>(): Start building space.\n",
      "Thu Jan  9 13:38:24 2020 <module>(): Done building space of 10000 items.\n",
      "Thu Jan  9 13:38:24 2020 <module>(): Done testing distances for 20 items against 10000 items.\n"
     ]
    }
   ],
   "source": [
    "# for every playlist\n",
    "#   generate sparse random index vector for that playlist\n",
    "#   for every song in that playlist\n",
    "#       if not seen, initiate empty context vector\n",
    "#       add the playlist index vector to the context vector\n",
    "logger(\"Start building space.\", debug)\n",
    "tracks = {}\n",
    "for oneplaylist in playlists:\n",
    "    indexvector = newrandomvector(dimensionality, denseness)\n",
    "    for track in oneplaylist:\n",
    "        if track not in tracks:\n",
    "            contextvector = newrandomvector(dimensionality, denseness)\n",
    "        else:\n",
    "            contextvector = tracks[track]\n",
    "        contextvector = sparseadd(contextvector, indexvector)\n",
    "        tracks[track] = contextvector\n",
    "logger(\"Done building space of {} items.\".format(len(tracks)), debug)\n",
    "samplesize = len(tracks) // testsampleproportion\n",
    "testsample = sample(tracks.keys(), samplesize)\n",
    "for t1 in testsample:\n",
    "    for t2 in testsample:\n",
    "        c1 = sparsecosine(tracks[t1], tracks[t2])\n",
    "logger(\"Done testing distances for {} items against {} items.\".format(len(testsample), len(tracks)),\n",
    "       debug)"
   ]
  },
  {
   "cell_type": "code",
   "execution_count": null,
   "metadata": {},
   "outputs": [],
   "source": []
  }
 ],
 "metadata": {
  "kernelspec": {
   "display_name": "Python 3",
   "language": "python",
   "name": "python3"
  },
  "language_info": {
   "codemirror_mode": {
    "name": "ipython",
    "version": 3
   },
   "file_extension": ".py",
   "mimetype": "text/x-python",
   "name": "python",
   "nbconvert_exporter": "python",
   "pygments_lexer": "ipython3",
   "version": "3.6.8"
  },
  "toc": {
   "base_numbering": 1,
   "nav_menu": {},
   "number_sections": true,
   "sideBar": true,
   "skip_h1_title": false,
   "title_cell": "Table of Contents",
   "title_sidebar": "Contents",
   "toc_cell": true,
   "toc_position": {},
   "toc_section_display": true,
   "toc_window_display": false
  }
 },
 "nbformat": 4,
 "nbformat_minor": 2
}
